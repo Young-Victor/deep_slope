{
 "cells": [
  {
   "cell_type": "code",
   "execution_count": 1,
   "metadata": {},
   "outputs": [
    {
     "name": "stderr",
     "output_type": "stream",
     "text": [
      "e:\\Anaconda\\envs\\python38\\lib\\site-packages\\tqdm\\auto.py:21: TqdmWarning: IProgress not found. Please update jupyter and ipywidgets. See https://ipywidgets.readthedocs.io/en/stable/user_install.html\n",
      "  from .autonotebook import tqdm as notebook_tqdm\n"
     ]
    }
   ],
   "source": [
    "import torch\n",
    "\n",
    "# define my model\n",
    "class Model(torch.nn.Module):\n",
    "    def __init__(self, hidden_size_common,out_classes):\n",
    "        super(Model, self).__init__()\n",
    "        self.conv_1 = torch.nn.Conv2d(1,32,3,1,1)\n",
    "        self.conv_2 = torch.nn.Conv2d(32,128,3,1,1)\n",
    "        # self.conv_3 = torch.nn.Conv2d(64,128,3,1,1)\n",
    "\n",
    "        \n",
    "        self.flatten = torch.nn.Flatten()\n",
    "\n",
    "\n",
    "        self.linear_in = torch.nn.Linear(128*5, hidden_size_common)\n",
    "        self.linear_hidden = torch.nn.Linear(hidden_size_common, hidden_size_common)\n",
    "        self.linear_out = torch.nn.Linear(hidden_size_common, out_classes)\n",
    "        self.ReLU = torch.nn.ReLU()\n",
    "        self.Activate = torch.nn.Tanh()\n",
    "    \n",
    "    def forward(self, x):\n",
    "        \n",
    "        out = self.conv_1(x)\n",
    "        # out = self.pool(out)\n",
    "        out = self.conv_2(out)\n",
    "        # out = self.conv_3(out)\n",
    "        # out = self.pool(out)\n",
    "\n",
    "        out = self.flatten(out)\n",
    "\n",
    "        out = self.linear_in(out)\n",
    "        \n",
    "        out = self.Activate(out)\n",
    "        for _ in range(4):\n",
    "            out = self.linear_hidden(out)\n",
    "            out = self.ReLU(out)\n",
    "        out = self.linear_out(out)\n",
    "        out = self.ReLU(out)\n",
    "        return out\n"
   ]
  },
  {
   "cell_type": "code",
   "execution_count": 2,
   "metadata": {},
   "outputs": [
    {
     "name": "stdout",
     "output_type": "stream",
     "text": [
      "tensor([[[[14.6000,  5.3000, 17.0000, 42.0000, 16.0000]]],\n",
      "\n",
      "\n",
      "        [[[15.0000,  5.7000, 23.8000, 34.0000, 24.6000]]],\n",
      "\n",
      "\n",
      "        [[[18.9000,  8.6000, 38.5000, 35.0000, 23.0000]]],\n",
      "\n",
      "\n",
      "        [[[18.2000,  8.5000, 27.0000, 45.0000, 33.0000]]],\n",
      "\n",
      "\n",
      "        [[[19.6000,  9.0000, 26.4000, 39.0000, 37.8000]]],\n",
      "\n",
      "\n",
      "        [[[16.0000,  9.5000, 18.0000, 63.0000, 14.0000]]],\n",
      "\n",
      "\n",
      "        [[[17.0000,  7.2000, 34.0000, 56.0000, 43.5000]]]])\n",
      "[[0.6495]\n",
      " [0.9338]\n",
      " [1.53  ]\n",
      " [0.77  ]\n",
      " [0.8504]\n",
      " [0.5862]\n",
      " [0.6776]]\n"
     ]
    }
   ],
   "source": [
    "import pandas as pd\n",
    "import numpy as np\n",
    "Test_Data = pd.read_csv(\"Test_Data.csv\").values\n",
    "ver_feature = torch.tensor(Test_Data[:,2:7], dtype=torch.float32)\n",
    "ver_feature = ver_feature.view(-1, 1,1,5)\n",
    "print(ver_feature)\n",
    "ver_label = Test_Data[:,7:8]\n",
    "print(ver_label)"
   ]
  },
  {
   "cell_type": "code",
   "execution_count": 3,
   "metadata": {},
   "outputs": [],
   "source": [
    "# Model_Parameter/Deep_Slope_model_states(4096__4__2Conv2d(32,128,3,1,1)__0.0109).pt"
   ]
  },
  {
   "cell_type": "code",
   "execution_count": 4,
   "metadata": {},
   "outputs": [
    {
     "name": "stdout",
     "output_type": "stream",
     "text": [
      "tensor([[0.6502],\n",
      "        [0.9355],\n",
      "        [1.5510],\n",
      "        [0.7732],\n",
      "        [0.8547],\n",
      "        [0.6049],\n",
      "        [0.6707]], grad_fn=<ReluBackward0>)\n",
      "[[0.6495]\n",
      " [0.9338]\n",
      " [1.53  ]\n",
      " [0.77  ]\n",
      " [0.8504]\n",
      " [0.5862]\n",
      " [0.6776]]\n",
      "0.0007\n",
      "0.0017\n",
      "0.0210\n",
      "0.0032\n",
      "0.0043\n",
      "0.0187\n",
      "-0.0069\n"
     ]
    }
   ],
   "source": [
    "# 加载模型  \n",
    "model_finish_path = 'Deep_Slope_model_states(4096__4__2Conv2d(32,128,3,1,1)__0.0109).pt'\n",
    "state_dict = torch.load(model_finish_path)\n",
    "# create my model\n",
    "model = Model(4096, 1)\n",
    "model.load_state_dict(state_dict=state_dict)\n",
    "# 模型预测\n",
    "\n",
    "score = model(ver_feature)\n",
    "print(score)\n",
    "print(ver_label)\n",
    "for i in range(len(ver_label)):\n",
    "    err = score[i].item() - ver_label[i][0]\n",
    "    print(f'{err:.4f}')"
   ]
  },
  {
   "cell_type": "code",
   "execution_count": null,
   "metadata": {},
   "outputs": [],
   "source": []
  }
 ],
 "metadata": {
  "kernelspec": {
   "display_name": "Python 3.8.16 ('python38')",
   "language": "python",
   "name": "python3"
  },
  "language_info": {
   "codemirror_mode": {
    "name": "ipython",
    "version": 3
   },
   "file_extension": ".py",
   "mimetype": "text/x-python",
   "name": "python",
   "nbconvert_exporter": "python",
   "pygments_lexer": "ipython3",
   "version": "3.8.16"
  },
  "orig_nbformat": 4,
  "vscode": {
   "interpreter": {
    "hash": "e482211dbf2e4f68b16b90e341c825c78378f328df49041c09ba8d7d962e3100"
   }
  }
 },
 "nbformat": 4,
 "nbformat_minor": 2
}
